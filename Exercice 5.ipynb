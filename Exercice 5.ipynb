{
 "cells": [
  {
   "cell_type": "markdown",
   "id": "ca131c32",
   "metadata": {},
   "source": [
    "# Question 1\n",
    "Écrivez un programme Python pour convertir un tableau en une liste ordinaire avec les mêmes éléments.\n",
    "\n",
    "Nous pouvons utiliser la fonction np.tolist() ."
   ]
  },
  {
   "cell_type": "code",
   "execution_count": 8,
   "id": "7d4819f1",
   "metadata": {},
   "outputs": [
    {
     "name": "stdout",
     "output_type": "stream",
     "text": [
      "[[1, 2, 3], [4, 5, 6], [7, 8, 9]]\n"
     ]
    }
   ],
   "source": [
    "import numpy as np\n",
    "\n",
    "tableau = np.array([[1, 2, 3], [4, 5, 6], [7, 8, 9]])\n",
    "liste = tableau.tolist()\n",
    "print(liste)\n"
   ]
  },
  {
   "cell_type": "markdown",
   "id": "caccfd62",
   "metadata": {},
   "source": [
    "# Question 2\n",
    "Écrivez un programme NumPy pour calculer la somme des éléments diagonaux d'un tableau donné.\n",
    "\n",
    "Astuce : Il existe deux méthodes possibles pour résoudre ce problème : \n",
    "\n",
    "1-Manuellement (sans fonction directe). \n",
    "2-Utilisation de la fonction trace"
   ]
  },
  {
   "cell_type": "code",
   "execution_count": 2,
   "id": "d93ea5a5",
   "metadata": {},
   "outputs": [
    {
     "name": "stdout",
     "output_type": "stream",
     "text": [
      "Somme des éléments diagonaux (fonction trace) : 15\n"
     ]
    }
   ],
   "source": [
    "import numpy as np\n",
    "\n",
    "arr = np.array([[1, 2, 3],\n",
    "                [4, 5, 6],\n",
    "                [7, 8, 9]])\n",
    "\n",
    "sum_diagonal = np.trace(arr)\n",
    "print(\"Somme des éléments diagonaux (fonction trace) :\", sum_diagonal)"
   ]
  },
  {
   "cell_type": "markdown",
   "id": "b97eff81",
   "metadata": {},
   "source": [
    "# Question 3\n",
    "Étant donné un tableau de votre choix, obtenez toutes les valeurs supérieures à X :\n",
    "\n",
    "Si a = [[1,2],[3,5]] et x = 2 : alors 3 et 5 sont supérieurs à 2. "
   ]
  },
  {
   "cell_type": "code",
   "execution_count": 7,
   "id": "791531fc",
   "metadata": {},
   "outputs": [
    {
     "name": "stdout",
     "output_type": "stream",
     "text": [
      "Elements supérieurs à 2 dans le tableau [[1 2]\n",
      " [3 5]] sont : [3 5]\n"
     ]
    }
   ],
   "source": [
    "import numpy as np\n",
    "\n",
    "a = np.array([[1, 2],\n",
    "              [3, 5]])\n",
    "x = 2\n",
    "indices = np.where(a > x)\n",
    "result = a[indices]\n",
    "print(\"Elements supérieurs à\", x, \"dans le tableau\", a, \"sont :\", result)"
   ]
  },
  {
   "cell_type": "markdown",
   "id": "c66bca4c",
   "metadata": {},
   "source": [
    "# Question 4\n",
    "Étant donné deux tableaux, A et B ont la même forme. \n",
    "\n",
    "La tâche consiste à appliquer l'addition à la main : C est le nouveau tableau. "
   ]
  },
  {
   "cell_type": "code",
   "execution_count": 6,
   "id": "1af6ea94",
   "metadata": {},
   "outputs": [
    {
     "name": "stdout",
     "output_type": "stream",
     "text": [
      "Tableau A :\n",
      " [[1 2 3]\n",
      " [4 5 6]]\n",
      "Tableau B :\n",
      " [[ 7  8  9]\n",
      " [10 11 12]]\n",
      "Tableau C (résultat de l'addition A + B):\n",
      " [[ 8. 10. 12.]\n",
      " [14. 16. 18.]]\n"
     ]
    }
   ],
   "source": [
    "import numpy as np\n",
    "\n",
    "A = np.array([[1, 2, 3],\n",
    "              [4, 5, 6]])\n",
    "\n",
    "B = np.array([[7, 8, 9],\n",
    "              [10, 11, 12]])\n",
    "\n",
    "n, m = A.shape\n",
    "\n",
    "C = np.zeros((n, m))\n",
    "\n",
    "for i in range(n):\n",
    "    for j in range(m):\n",
    "        C[i][j] = A[i][j] + B[i][j]\n",
    "\n",
    "print(\"Tableau A :\\n\", A)\n",
    "print(\"Tableau B :\\n\", B)\n",
    "print(\"Tableau C (résultat de l'addition A + B):\\n\", C)\n"
   ]
  },
  {
   "cell_type": "markdown",
   "id": "34eddfe6",
   "metadata": {},
   "source": [
    "# Question 5\n",
    "Écrivez un programme NumPy pour soustraire la moyenne de chaque ligne d'une matrice donnée.\n",
    "\n",
    "Astuce : utilisez la fonction moyenne"
   ]
  },
  {
   "cell_type": "code",
   "execution_count": 9,
   "id": "cabc6cd3",
   "metadata": {},
   "outputs": [
    {
     "name": "stdout",
     "output_type": "stream",
     "text": [
      "Matrice d'origine :\n",
      " [[1 2 3]\n",
      " [4 5 6]\n",
      " [7 8 9]]\n",
      "Matrice centrée :\n",
      " [[-1.  0.  1.]\n",
      " [-1.  0.  1.]\n",
      " [-1.  0.  1.]]\n"
     ]
    }
   ],
   "source": [
    "import numpy as np\n",
    "\n",
    "M = np.array([[1, 2, 3],\n",
    "              [4, 5, 6],\n",
    "              [7, 8, 9]])\n",
    "\n",
    "mean_per_row = np.mean(M, axis=1)\n",
    "\n",
    "M_centered = M - mean_per_row[:, np.newaxis]\n",
    "print(\"Matrice d'origine :\\n\", M)\n",
    "print(\"Matrice centrée :\\n\", M_centered)\n"
   ]
  }
 ],
 "metadata": {
  "kernelspec": {
   "display_name": "Python 3 (ipykernel)",
   "language": "python",
   "name": "python3"
  },
  "language_info": {
   "codemirror_mode": {
    "name": "ipython",
    "version": 3
   },
   "file_extension": ".py",
   "mimetype": "text/x-python",
   "name": "python",
   "nbconvert_exporter": "python",
   "pygments_lexer": "ipython3",
   "version": "3.9.13"
  }
 },
 "nbformat": 4,
 "nbformat_minor": 5
}
